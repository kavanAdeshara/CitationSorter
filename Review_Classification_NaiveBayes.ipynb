{
  "nbformat": 4,
  "nbformat_minor": 0,
  "metadata": {
    "colab": {
      "name": "Review_Classification_NaiveBayes.ipynb",
      "provenance": [],
      "toc_visible": true,
      "authorship_tag": "ABX9TyMpTFPOG4BK8TuLIw3OC/8y",
      "include_colab_link": true
    },
    "kernelspec": {
      "name": "python3",
      "display_name": "Python 3"
    }
  },
  "cells": [
    {
      "cell_type": "markdown",
      "metadata": {
        "id": "view-in-github",
        "colab_type": "text"
      },
      "source": [
        "<a href=\"https://colab.research.google.com/github/kavanAdeshara/Citation_Sorter/blob/master/Review_Classification_NaiveBayes.ipynb\" target=\"_parent\"><img src=\"https://colab.research.google.com/assets/colab-badge.svg\" alt=\"Open In Colab\"/></a>"
      ]
    },
    {
      "cell_type": "code",
      "metadata": {
        "id": "bKj_QxvNIbXQ"
      },
      "source": [
        "import pandas as pd\r\n",
        "\r\n",
        "reviews = pd.read_csv(\"spiderman_ffh_reviews.csv\")"
      ],
      "execution_count": 11,
      "outputs": []
    },
    {
      "cell_type": "markdown",
      "metadata": {
        "id": "iyp9qLyqJusr"
      },
      "source": [
        "# Data Preprocessing"
      ]
    },
    {
      "cell_type": "code",
      "metadata": {
        "id": "wi7r-ESCJC3n"
      },
      "source": [
        "import string, re\r\n",
        "import nltk\r\n",
        "\r\n",
        "# clean data\r\n",
        "\r\n",
        "translator = str.maketrans('', '', string.punctuation)\r\n",
        "stopwords_list = nltk.corpus.stopwords.words('english')\r\n",
        "\r\n",
        "review_list = reviews[\"Review\"]\r\n",
        "for i in range(len(review_list)):\r\n",
        "  temp = review_list[i].lower()\r\n",
        "  review_list[i]  = temp.translate(translator)"
      ],
      "execution_count": 24,
      "outputs": []
    },
    {
      "cell_type": "code",
      "metadata": {
        "colab": {
          "base_uri": "https://localhost:8080/"
        },
        "id": "Feqi4e0GK1OX",
        "outputId": "d394e7fc-5ed6-42b9-cda3-50e7eec6ff39"
      },
      "source": [
        "review_list"
      ],
      "execution_count": 25,
      "outputs": [
        {
          "output_type": "execute_result",
          "data": {
            "text/plain": [
              "0     far from homes sleightofhand pulls off effecti...\n",
              "1     this film has the best spiderman scene that ha...\n",
              "2     a joyous trek through europe after the gloom o...\n",
              "3     a totally enjoyable ride with a commendably cr...\n",
              "4     consistently engaging thanks to its blend of h...\n",
              "5     breezy and lighthearted with some epic action ...\n",
              "6     one of the most entertaining films in the mcu ...\n",
              "7     entertaining goofy and packed with strong acti...\n",
              "8     ultimately spiderman far from home is a fun en...\n",
              "9     fun lively high school spirit as tom holland i...\n",
              "10    after the nearperfect fun of homecoming spider...\n",
              "11    it would be wrong to write off far from home a...\n",
              "12    you could chalk it up to marvel fatigue but we...\n",
              "13    some plots seem too long tedious and the turni...\n",
              "14    the bad news is that the cast that surrounds t...\n",
              "15    one of the problems with far from home is its ...\n",
              "16    like the sound cue that opens it far frmom hom...\n",
              "17    far from home is a mediocre spiderman film now...\n",
              "18    spiderman far from home is one of the few film...\n",
              "19    spiderman far from home is a visually incohere...\n",
              "Name: Review, dtype: object"
            ]
          },
          "metadata": {
            "tags": []
          },
          "execution_count": 25
        }
      ]
    },
    {
      "cell_type": "markdown",
      "metadata": {
        "id": "ozxaYlT4I7cC"
      },
      "source": [
        "# Training\r\n",
        "\r\n",
        "Tokenize the words in the reviews and create two bag of words, one for positive and one for negative."
      ]
    },
    {
      "cell_type": "code",
      "metadata": {
        "id": "gvvstzRwLS4a"
      },
      "source": [
        "positive_BOW = {}\r\n",
        "negative_BOW = {}\r\n",
        "save_rev = []\r\n",
        "\r\n",
        "for i in range(len(review_list)):\r\n",
        "  review = review_list[i]\r\n",
        "  temp = review.replace('\\n', '')\r\n",
        "  temp = temp.split(' ')\r\n",
        "  save_rev.append(temp)\r\n",
        "  for word in temp:\r\n",
        "    if(word not in stopwords_list):\r\n",
        "      if(word not in positive_BOW.keys() and word.isnumeric() == False and word != '' and reviews[\"Category\"][i] == 'positive'):\r\n",
        "        positive_BOW[word] = 0\r\n",
        "      elif(word not in negative_BOW.keys() and word.isnumeric() == False and word != '' and reviews[\"Category\"][i] == 'negative'):\r\n",
        "        negative_BOW[word] = 0\r\n",
        "\r\n",
        "for each in save_rev:\r\n",
        "  for word in each:\r\n",
        "    if(word in positive_BOW.keys()):\r\n",
        "      positive_BOW[word] += 1\r\n",
        "    elif(word in negative_BOW.keys()):\r\n",
        "      negative_BOW[word] += 1\r\n"
      ],
      "execution_count": 57,
      "outputs": []
    },
    {
      "cell_type": "code",
      "metadata": {
        "colab": {
          "base_uri": "https://localhost:8080/"
        },
        "id": "I8baikMIPwFf",
        "outputId": "11e397b3-833e-47f5-d578-a287a13cc415"
      },
      "source": [
        "positive_BOW"
      ],
      "execution_count": 58,
      "outputs": [
        {
          "output_type": "execute_result",
          "data": {
            "text/plain": [
              "{'action': 3,\n",
              " 'adventure': 1,\n",
              " 'almost': 1,\n",
              " 'behind': 1,\n",
              " 'best': 3,\n",
              " 'better': 2,\n",
              " 'big': 2,\n",
              " 'blend': 1,\n",
              " 'blockbuster': 1,\n",
              " 'breezy': 1,\n",
              " 'charged': 1,\n",
              " 'cinemas': 1,\n",
              " 'coming': 1,\n",
              " 'commendably': 1,\n",
              " 'consistently': 1,\n",
              " 'creative': 1,\n",
              " 'date': 1,\n",
              " 'didnt': 1,\n",
              " 'doc': 1,\n",
              " 'doctor': 1,\n",
              " 'effective': 1,\n",
              " 'electro': 1,\n",
              " 'emotionally': 1,\n",
              " 'endgame': 1,\n",
              " 'energetic': 1,\n",
              " 'engaging': 1,\n",
              " 'enjoyable': 1,\n",
              " 'entertaining': 3,\n",
              " 'epic': 1,\n",
              " 'europe': 1,\n",
              " 'even': 2,\n",
              " 'ever': 1,\n",
              " 'exactly': 1,\n",
              " 'far': 12,\n",
              " 'fatigue': 2,\n",
              " 'film': 3,\n",
              " 'filmed': 1,\n",
              " 'films': 3,\n",
              " 'fun': 3,\n",
              " 'gloom': 1,\n",
              " 'goofy': 1,\n",
              " 'high': 1,\n",
              " 'highimpact': 1,\n",
              " 'holland': 1,\n",
              " 'home': 11,\n",
              " 'homecoming': 3,\n",
              " 'homes': 1,\n",
              " 'humanity': 1,\n",
              " 'humour': 1,\n",
              " 'joyous': 1,\n",
              " 'kaleidoscope': 1,\n",
              " 'last': 1,\n",
              " 'lighthearted': 1,\n",
              " 'like': 5,\n",
              " 'lively': 1,\n",
              " 'marvel': 2,\n",
              " 'mcu': 3,\n",
              " 'months': 1,\n",
              " 'ock': 1,\n",
              " 'one': 5,\n",
              " 'ordered': 1,\n",
              " 'packed': 1,\n",
              " 'peter': 1,\n",
              " 'picture': 1,\n",
              " 'pieces': 1,\n",
              " 'possible': 1,\n",
              " 'premise': 1,\n",
              " 'pulls': 1,\n",
              " 'ride': 1,\n",
              " 'satisfying': 1,\n",
              " 'scene': 1,\n",
              " 'school': 1,\n",
              " 'second': 1,\n",
              " 'see': 1,\n",
              " 'seem': 3,\n",
              " 'send': 1,\n",
              " 'sleightofhand': 1,\n",
              " 'spiderman': 8,\n",
              " 'spine': 1,\n",
              " 'spirit': 1,\n",
              " 'strong': 1,\n",
              " 'stunning': 1,\n",
              " 'superhero': 2,\n",
              " 'thanks': 1,\n",
              " 'thanos': 1,\n",
              " 'tingles': 1,\n",
              " 'tom': 1,\n",
              " 'totally': 1,\n",
              " 'trek': 1,\n",
              " 'turns': 1,\n",
              " 'twists': 1,\n",
              " 'two': 1,\n",
              " 'ultimately': 1,\n",
              " 'visual': 2,\n",
              " 'visually': 2,\n",
              " 'whats': 1}"
            ]
          },
          "metadata": {
            "tags": []
          },
          "execution_count": 58
        }
      ]
    },
    {
      "cell_type": "code",
      "metadata": {
        "colab": {
          "base_uri": "https://localhost:8080/"
        },
        "id": "8vA8-RozRkR-",
        "outputId": "58be2431-2116-411f-d5ac-b45ba0f30bc8"
      },
      "source": [
        "negative_BOW"
      ],
      "execution_count": 59,
      "outputs": [
        {
          "output_type": "execute_result",
          "data": {
            "text/plain": [
              "{'actors': 1,\n",
              " 'anymore': 1,\n",
              " 'anyone': 1,\n",
              " 'bad': 1,\n",
              " 'becoming': 1,\n",
              " 'betrays': 1,\n",
              " 'big': 0,\n",
              " 'bland': 1,\n",
              " 'call': 1,\n",
              " 'cast': 1,\n",
              " 'certainly': 1,\n",
              " 'chalk': 1,\n",
              " 'chalkboard': 1,\n",
              " 'chance': 1,\n",
              " 'channel': 1,\n",
              " 'character': 1,\n",
              " 'characters': 1,\n",
              " 'clichés': 1,\n",
              " 'complete': 1,\n",
              " 'completely': 1,\n",
              " 'connective': 1,\n",
              " 'continue': 1,\n",
              " 'could': 1,\n",
              " 'cue': 1,\n",
              " 'disappointing': 1,\n",
              " 'dismissive': 1,\n",
              " 'disney': 1,\n",
              " 'durability': 1,\n",
              " 'effectsheavy': 1,\n",
              " 'emotion': 1,\n",
              " 'endcap': 1,\n",
              " 'especially': 1,\n",
              " 'every': 1,\n",
              " 'examination': 1,\n",
              " 'exhausting': 1,\n",
              " 'experience': 1,\n",
              " 'failure': 1,\n",
              " 'far': 0,\n",
              " 'fatigue': 0,\n",
              " 'felt': 1,\n",
              " 'film': 0,\n",
              " 'films': 0,\n",
              " 'forward': 1,\n",
              " 'frmom': 1,\n",
              " 'fun': 0,\n",
              " 'genre': 1,\n",
              " 'genuine': 1,\n",
              " 'genz': 1,\n",
              " 'go': 1,\n",
              " 'good': 1,\n",
              " 'happens': 1,\n",
              " 'highschoolers': 1,\n",
              " 'home': 0,\n",
              " 'homecoming': 0,\n",
              " 'hour': 1,\n",
              " 'incoherent': 1,\n",
              " 'insufferable': 1,\n",
              " 'internalized': 1,\n",
              " 'iron': 1,\n",
              " 'irreverent': 1,\n",
              " 'joke': 1,\n",
              " 'lackluster': 1,\n",
              " 'lessthansatisfying': 1,\n",
              " 'letdown': 1,\n",
              " 'like': 0,\n",
              " 'long': 1,\n",
              " 'look': 1,\n",
              " 'loves': 1,\n",
              " 'makes': 1,\n",
              " 'man': 1,\n",
              " 'marvel': 0,\n",
              " 'mcu': 0,\n",
              " 'mcus': 1,\n",
              " 'mediocre': 1,\n",
              " 'meets': 1,\n",
              " 'moonlighting': 1,\n",
              " 'movie': 2,\n",
              " 'movies': 1,\n",
              " 'much': 2,\n",
              " 'mundanity': 1,\n",
              " 'nails': 1,\n",
              " 'nearperfect': 1,\n",
              " 'news': 1,\n",
              " 'none': 1,\n",
              " 'obsession': 1,\n",
              " 'one': 0,\n",
              " 'opens': 1,\n",
              " 'overall': 1,\n",
              " 'phase': 1,\n",
              " 'play': 1,\n",
              " 'plots': 1,\n",
              " 'plus': 1,\n",
              " 'point': 1,\n",
              " 'problems': 1,\n",
              " 'product': 1,\n",
              " 'quite': 1,\n",
              " 'reviewer': 1,\n",
              " 'risks': 1,\n",
              " 'seem': 0,\n",
              " 'shrug': 1,\n",
              " 'since': 1,\n",
              " 'sincere': 1,\n",
              " 'slavish': 1,\n",
              " 'slim': 1,\n",
              " 'sound': 1,\n",
              " 'spiderman': 0,\n",
              " 'stellar': 1,\n",
              " 'still': 1,\n",
              " 'story': 1,\n",
              " 'storylines': 1,\n",
              " 'storytelling': 1,\n",
              " 'suffers': 1,\n",
              " 'superhero': 0,\n",
              " 'surrounds': 1,\n",
              " 'technology': 1,\n",
              " 'tedious': 1,\n",
              " 'tissue': 1,\n",
              " 'turning': 1,\n",
              " 'types': 1,\n",
              " 'utter': 1,\n",
              " 'vaunted': 1,\n",
              " 'visual': 0,\n",
              " 'visually': 0,\n",
              " 'watchable': 1,\n",
              " 'watching': 1,\n",
              " 'way': 1,\n",
              " 'would': 2,\n",
              " 'write': 1,\n",
              " 'wrong': 1}"
            ]
          },
          "metadata": {
            "tags": []
          },
          "execution_count": 59
        }
      ]
    },
    {
      "cell_type": "code",
      "metadata": {
        "id": "K329iiymRwKi"
      },
      "source": [
        "total_count_pos = 0\r\n",
        "total_count_neg = 0\r\n",
        "pos_vocab_count = len(positive_BOW.keys())\r\n",
        "neg_vocab_count = len(negative_BOW.keys())\r\n",
        "\r\n",
        "for each in positive_BOW.values():\r\n",
        "  total_count_pos += each\r\n",
        "\r\n",
        "for each in negative_BOW.values():\r\n",
        "  total_count_neg += each "
      ],
      "execution_count": 60,
      "outputs": []
    },
    {
      "cell_type": "code",
      "metadata": {
        "colab": {
          "base_uri": "https://localhost:8080/"
        },
        "id": "J7i5kjOFSPFV",
        "outputId": "ea43c682-90b9-4d0b-e1f5-a6bec1fd66f2"
      },
      "source": [
        "print(total_count_pos, pos_vocab_count)"
      ],
      "execution_count": 61,
      "outputs": [
        {
          "output_type": "stream",
          "text": [
            "158 96\n"
          ],
          "name": "stdout"
        }
      ]
    },
    {
      "cell_type": "code",
      "metadata": {
        "colab": {
          "base_uri": "https://localhost:8080/"
        },
        "id": "2HVTCZhqSUFs",
        "outputId": "0a7af6cd-df9c-4457-fc95-1fee7786e5cd"
      },
      "source": [
        "print(total_count_neg, neg_vocab_count)"
      ],
      "execution_count": 62,
      "outputs": [
        {
          "output_type": "stream",
          "text": [
            "115 129\n"
          ],
          "name": "stdout"
        }
      ]
    }
  ]
}